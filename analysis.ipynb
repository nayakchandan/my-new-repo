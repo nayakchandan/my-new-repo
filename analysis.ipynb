{
 "cells": [
  {
   "cell_type": "markdown",
   "metadata": {},
   "source": [
    "# Data Analysis Notebook\n",
    "\n",
    "This notebook contains analysis for the cal_consumption dataset."
   ]
  },
  {
   "cell_type": "code",
   "execution_count": null,
   "metadata": {},
   "source": [
    "# Import necessary libraries\n",
    "import pandas as pd\n",
    "import numpy as np\n",
    "import matplotlib.pyplot as plt\n",
    "import seaborn as sns\n",
    "\n",
    "# Set visualization style\n",
    "sns.set_style('whitegrid')\n",
    "plt.rcParams['figure.figsize'] = (12, 8)"
   ]
  },
  {
   "cell_type": "code",
   "execution_count": null,
   "metadata": {},
   "source": [
    "# Load the datasets\n",
    "train_df = pd.read_csv('train.csv')\n",
    "test_df = pd.read_csv('test.csv')\n",
    "\n",
    "# Display basic information\n",
    "print(\"Training data shape:\", train_df.shape)\n",
    "print(\"Test data shape:\", test_df.shape)"
   ]
  },
  {
   "cell_type": "code",
   "execution_count": null,
   "metadata": {},
   "source": [
    "# Examine the first few rows of the training data\n",
    "train_df.head()"
   ]
  },
  {
   "cell_type": "code",
   "execution_count": null,
   "metadata": {},
   "source": [
    "# Display summary statistics\n",
    "train_df.describe()"
   ]
  },
  {
   "cell_type": "code",
   "execution_count": null,
   "metadata": {},
   "source": [
    "# Check for missing values\n",
    "print(\"Missing values in training data:\")\n",
    "print(train_df.isnull().sum())\n",
    "\n",
    "print(\"\\nMissing values in test data:\")\n",
    "print(test_df.isnull().sum())"
   ]
  },
  {
   "cell_type": "markdown",
   "metadata": {},
   "source": [
    "## Exploratory Data Analysis"
   ]
  },
  {
   "cell_type": "code",
   "execution_count": null,
   "metadata": {},
   "source": [
    "# Explore the distribution of numerical features\n",
    "# Update column names based on your dataset\n",
    "num_features = train_df.select_dtypes(include=['int64', 'float64']).columns.tolist()\n",
    "\n",
    "# Create histograms for numerical features\n",
    "fig, axes = plt.subplots(len(num_features), 1, figsize=(12, 4 * len(num_features)))\n",
    "for i, feature in enumerate(num_features):\n",
    "    sns.histplot(train_df[feature], kde=True, ax=axes[i])\n",
    "    axes[i].set_title(f'Distribution of {feature}')\n",
    "plt.tight_layout()\n",
    "plt.show()"
   ]
  },
  {
   "cell_type": "code",
   "metadata": {},
   "source": "# Correlation analysis\ncorr_matrix = train_df.select_dtypes(include=['int64', 'float64']).corr()\n\n# Handle case where there might be only one or no numeric columns\nif corr_matrix.shape[0] > 0:\n    plt.figure(figsize=(14, 10))\n    mask = np.triu(np.ones_like(corr_matrix, dtype=bool))  # Create mask for upper triangle\n    \n    # Check if corr_matrix is larger than 1x1 (needed for mask to work properly)\n    if corr_matrix.shape[0] > 1:\n        heatmap = sns.heatmap(\n            corr_matrix, \n            annot=True,\n            mask=mask,\n            cmap='coolwarm', \n            fmt='.2f',\n            linewidths=0.5\n        )\n    else:\n        # For a 1x1 matrix, don't use mask\n        heatmap = sns.heatmap(\n            corr_matrix, \n            annot=True,\n            cmap='coolwarm', \n            fmt='.2f',\n            linewidths=0.5\n        )\n    \n    plt.title('Correlation Matrix')\n    plt.tight_layout()\n    plt.show()\nelse:\n    print(\"No numeric columns available for correlation analysis.\")",
   "outputs": []
  },
  {
   "cell_type": "markdown",
   "metadata": {},
   "source": [
    "## Feature Engineering"
   ]
  },
  {
   "cell_type": "code",
   "execution_count": null,
   "metadata": {},
   "source": [
    "# Add your feature engineering code here\n",
    "# Example:\n",
    "# train_df['new_feature'] = train_df['feature1'] / train_df['feature2']\n"
   ]
  },
  {
   "cell_type": "markdown",
   "metadata": {},
   "source": [
    "## Model Building"
   ]
  },
  {
   "cell_type": "code",
   "execution_count": null,
   "metadata": {},
   "source": [
    "# Import ML libraries\n",
    "from sklearn.model_selection import train_test_split, cross_val_score\n",
    "from sklearn.preprocessing import StandardScaler\n",
    "from sklearn.linear_model import LinearRegression\n",
    "from sklearn.ensemble import RandomForestRegressor\n",
    "from sklearn.metrics import mean_squared_error, r2_score"
   ]
  },
  {
   "cell_type": "code",
   "execution_count": null,
   "metadata": {},
   "source": [
    "# Prepare data for modeling\n",
    "# Assuming the last column is the target variable\n",
    "# Update accordingly based on your dataset\n",
    "\n",
    "# X = train_df.drop('target_column', axis=1)\n",
    "# y = train_df['target_column']\n",
    "\n",
    "# X_train, X_val, y_train, y_val = train_test_split(X, y, test_size=0.2, random_state=42)"
   ]
  },
  {
   "cell_type": "code",
   "execution_count": null,
   "metadata": {},
   "source": [
    "# Feature scaling\n",
    "# scaler = StandardScaler()\n",
    "# X_train_scaled = scaler.fit_transform(X_train)\n",
    "# X_val_scaled = scaler.transform(X_val)"
   ]
  },
  {
   "cell_type": "code",
   "execution_count": null,
   "metadata": {},
   "source": [
    "# Train a linear regression model\n",
    "# lr_model = LinearRegression()\n",
    "# lr_model.fit(X_train_scaled, y_train)\n",
    "\n",
    "# lr_pred = lr_model.predict(X_val_scaled)\n",
    "# print(\"Linear Regression RMSE:\", np.sqrt(mean_squared_error(y_val, lr_pred)))\n",
    "# print(\"Linear Regression R²:\", r2_score(y_val, lr_pred))"
   ]
  },
  {
   "cell_type": "code",
   "execution_count": null,
   "metadata": {},
   "source": [
    "# Train a random forest model\n",
    "# rf_model = RandomForestRegressor(n_estimators=100, random_state=42)\n",
    "# rf_model.fit(X_train, y_train)\n",
    "\n",
    "# rf_pred = rf_model.predict(X_val)\n",
    "# print(\"Random Forest RMSE:\", np.sqrt(mean_squared_error(y_val, rf_pred)))\n",
    "# print(\"Random Forest R²:\", r2_score(y_val, rf_pred))"
   ]
  },
  {
   "cell_type": "markdown",
   "metadata": {},
   "source": [
    "## Model Evaluation"
   ]
  },
  {
   "cell_type": "code",
   "execution_count": null,
   "metadata": {},
   "source": [
    "# Feature importance (for Random Forest)\n",
    "# feature_importance = pd.DataFrame()\n",
    "# feature_importance['Feature'] = X.columns\n",
    "# feature_importance['Importance'] = rf_model.feature_importances_\n",
    "# feature_importance.sort_values(by='Importance', ascending=False, inplace=True)\n",
    "\n",
    "# plt.figure(figsize=(12, 8))\n",
    "# sns.barplot(x='Importance', y='Feature', data=feature_importance)\n",
    "# plt.title('Feature Importance')\n",
    "# plt.show()"
   ]
  },
  {
   "cell_type": "markdown",
   "metadata": {},
   "source": [
    "## Predictions on Test Data"
   ]
  },
  {
   "cell_type": "code",
   "execution_count": null,
   "metadata": {},
   "source": [
    "# Make predictions on test data\n",
    "# X_test = test_df.drop('id', axis=1)  # Replace 'id' with any non-feature column\n",
    "# X_test_scaled = scaler.transform(X_test)\n",
    "\n",
    "# test_predictions = rf_model.predict(X_test)\n",
    "# submission = pd.DataFrame({\n",
    "#     'id': test_df['id'],  # Replace with actual ID column name\n",
    "#     'prediction': test_predictions\n",
    "# })\n",
    "\n",
    "# submission.to_csv('submission.csv', index=False)\n",
    "# submission.head()"
   ]
  }
 ],
 "metadata": {
  "kernelspec": {
   "display_name": "Python 3",
   "language": "python",
   "name": "python3"
  },
  "language_info": {
   "codemirror_mode": {
    "name": "ipython",
    "version": 3
   },
   "file_extension": ".py",
   "mimetype": "text/x-python",
   "name": "python",
   "nbconvert_exporter": "python",
   "pygments_lexer": "ipython3",
   "version": "3.8.10"
  }
 },
 "nbformat": 4,
 "nbformat_minor": 4
}